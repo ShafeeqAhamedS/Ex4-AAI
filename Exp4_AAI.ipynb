{
  "nbformat": 4,
  "nbformat_minor": 0,
  "metadata": {
    "colab": {
      "provenance": [],
      "authorship_tag": "ABX9TyMgXuREa54HzUWVkr+FakMM",
      "include_colab_link": true
    },
    "kernelspec": {
      "name": "python3",
      "display_name": "Python 3"
    },
    "language_info": {
      "name": "python"
    }
  },
  "cells": [
    {
      "cell_type": "markdown",
      "metadata": {
        "id": "view-in-github",
        "colab_type": "text"
      },
      "source": [
        "<a href=\"https://colab.research.google.com/github/ShafeeqAhamedS/Ex4-AAI/blob/main/Exp4_AAI.ipynb\" target=\"_parent\"><img src=\"https://colab.research.google.com/assets/colab-badge.svg\" alt=\"Open In Colab\"/></a>"
      ]
    },
    {
      "cell_type": "code",
      "execution_count": 1,
      "metadata": {
        "id": "f3vEMGcvD5Ki"
      },
      "outputs": [],
      "source": [
        "import numpy as np"
      ]
    },
    {
      "cell_type": "code",
      "source": [
        "t_m = np.array([[0.7,0.3],\n",
        "                [0.4, 0.6]])\n",
        "e_m = np.array([[0.1,0.9],\n",
        "                [0.8,0.2]])\n",
        "i_p = np.array([0.5,0.5])\n",
        "\n",
        "o_s = np.array([1,1,1,0,0,1])"
      ],
      "metadata": {
        "id": "9ey3A-DYD_Vf"
      },
      "execution_count": 2,
      "outputs": []
    },
    {
      "cell_type": "code",
      "source": [
        "alpha = np.zeros((len(o_s),len(i_p)))\n",
        "\n",
        "alpha[0, :] = i_p * e_m[:, o_s[0]]"
      ],
      "metadata": {
        "id": "cv3iWthaEAcM"
      },
      "execution_count": 3,
      "outputs": []
    },
    {
      "cell_type": "code",
      "source": [
        "for t in range(1, len(o_s)):\n",
        "\n",
        "  for j in range(len(i_p)):\n",
        "\n",
        "    alpha[t, j ] = e_m[j,o_s[t]] * np.sum(alpha[t-1, :] * t_m[:, j ])\n",
        "\n",
        "prob = np.sum(alpha[-1, :])\n",
        "\n",
        "print(\"The Probability of the observed sequence is :\",prob)"
      ],
      "metadata": {
        "colab": {
          "base_uri": "https://localhost:8080/"
        },
        "id": "A6DH5KtIEBzE",
        "outputId": "3300df9d-57d1-4d18-cc01-4f15fb5dba20"
      },
      "execution_count": 4,
      "outputs": [
        {
          "output_type": "stream",
          "name": "stdout",
          "text": [
            "The Probability of the observed sequence is : 0.018906881625\n"
          ]
        }
      ]
    },
    {
      "cell_type": "code",
      "source": [
        "m_l_s = []\n",
        "for t in range(len(o_s)):\n",
        "  if alpha[t, 0] > alpha[t,1]:\n",
        "    m_l_s.append(\"sunny\")\n",
        "  else:\n",
        "    m_l_s.append(\"rainy\")\n",
        "\n",
        "print(\"Thye most likely sequence of weather states is :\",m_l_s)"
      ],
      "metadata": {
        "colab": {
          "base_uri": "https://localhost:8080/"
        },
        "id": "QF70AnrUECw2",
        "outputId": "248e3997-6350-449d-f794-28691b20f387"
      },
      "execution_count": 5,
      "outputs": [
        {
          "output_type": "stream",
          "name": "stdout",
          "text": [
            "Thye most likely sequence of weather states is : ['sunny', 'sunny', 'sunny', 'rainy', 'rainy', 'sunny']\n"
          ]
        }
      ]
    }
  ]
}